{
 "cells": [
  {
   "cell_type": "code",
   "execution_count": 1,
   "id": "235806ae-b109-4269-8fef-3a97eca2c48b",
   "metadata": {},
   "outputs": [
    {
     "name": "stderr",
     "output_type": "stream",
     "text": [
      "2022-01-08 22:57:54.079 INFO    numexpr.utils: NumExpr defaulting to 4 threads.\n"
     ]
    }
   ],
   "source": [
    "import streamlit as st\n",
    "import pandas as pd\n",
    "import numpy as np\n"
   ]
  },
  {
   "cell_type": "code",
   "execution_count": 12,
   "id": "1f37c4d3-67fd-474e-8e89-a42ee2041de2",
   "metadata": {},
   "outputs": [],
   "source": [
    "data_address = \"C:\\\\Users\\joelf\\Documents\\Bootcamp\\Data_Analytics\\Project\\Green_Team\\StreamlitDemo\\Resources/test.csv\"\n",
    "\n",
    "def load_data(nrows):\n",
    "    data = pd.read_csv(data_address, nrows=nrows)\n",
    "    lowercase = lambda x: str(x).lower()\n",
    "    data.rename(lowercase, axis='columns', inplace=True)\n",
    "    return data\n"
   ]
  },
  {
   "cell_type": "code",
   "execution_count": 13,
   "id": "1f678921-fe4d-4d6b-bd22-29bcb2af3f94",
   "metadata": {},
   "outputs": [],
   "source": [
    "data = load_data(4)"
   ]
  },
  {
   "cell_type": "code",
   "execution_count": 14,
   "id": "05c893a2-247b-4387-956b-07bf98f7e9bb",
   "metadata": {},
   "outputs": [
    {
     "data": {
      "text/html": [
       "<div>\n",
       "<style scoped>\n",
       "    .dataframe tbody tr th:only-of-type {\n",
       "        vertical-align: middle;\n",
       "    }\n",
       "\n",
       "    .dataframe tbody tr th {\n",
       "        vertical-align: top;\n",
       "    }\n",
       "\n",
       "    .dataframe thead th {\n",
       "        text-align: right;\n",
       "    }\n",
       "</style>\n",
       "<table border=\"1\" class=\"dataframe\">\n",
       "  <thead>\n",
       "    <tr style=\"text-align: right;\">\n",
       "      <th></th>\n",
       "      <th>date_time</th>\n",
       "      <th>lat</th>\n",
       "      <th>lon</th>\n",
       "      <th>base</th>\n",
       "    </tr>\n",
       "  </thead>\n",
       "  <tbody>\n",
       "    <tr>\n",
       "      <th>0</th>\n",
       "      <td>08/01/2021</td>\n",
       "      <td>40.2201</td>\n",
       "      <td>-74.0021</td>\n",
       "      <td>B1</td>\n",
       "    </tr>\n",
       "    <tr>\n",
       "      <th>1</th>\n",
       "      <td>08/02/2021</td>\n",
       "      <td>40.1100</td>\n",
       "      <td>-73.1546</td>\n",
       "      <td>C1</td>\n",
       "    </tr>\n",
       "    <tr>\n",
       "      <th>2</th>\n",
       "      <td>08/01/2021</td>\n",
       "      <td>44.2201</td>\n",
       "      <td>-76.0021</td>\n",
       "      <td>D1</td>\n",
       "    </tr>\n",
       "    <tr>\n",
       "      <th>3</th>\n",
       "      <td>08/02/2021</td>\n",
       "      <td>42.1100</td>\n",
       "      <td>-70.1500</td>\n",
       "      <td>X1</td>\n",
       "    </tr>\n",
       "  </tbody>\n",
       "</table>\n",
       "</div>"
      ],
      "text/plain": [
       "    date_time      lat      lon base\n",
       "0  08/01/2021  40.2201 -74.0021   B1\n",
       "1  08/02/2021  40.1100 -73.1546   C1\n",
       "2  08/01/2021  44.2201 -76.0021   D1\n",
       "3  08/02/2021  42.1100 -70.1500   X1"
      ]
     },
     "execution_count": 14,
     "metadata": {},
     "output_type": "execute_result"
    }
   ],
   "source": [
    "data"
   ]
  },
  {
   "cell_type": "code",
   "execution_count": null,
   "id": "c906a06a-af3c-44c0-89a1-19a43241fe4b",
   "metadata": {},
   "outputs": [],
   "source": []
  }
 ],
 "metadata": {
  "kernelspec": {
   "display_name": "mlenv",
   "language": "python",
   "name": "mlenv"
  },
  "language_info": {
   "codemirror_mode": {
    "name": "ipython",
    "version": 3
   },
   "file_extension": ".py",
   "mimetype": "text/x-python",
   "name": "python",
   "nbconvert_exporter": "python",
   "pygments_lexer": "ipython3",
   "version": "3.7.11"
  }
 },
 "nbformat": 4,
 "nbformat_minor": 5
}
