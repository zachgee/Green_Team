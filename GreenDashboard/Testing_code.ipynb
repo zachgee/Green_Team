{
 "cells": [
  {
   "cell_type": "code",
   "execution_count": null,
   "id": "235806ae-b109-4269-8fef-3a97eca2c48b",
   "metadata": {},
   "outputs": [],
   "source": [
    "import streamlit as st\n",
    "import pandas as pd\n",
    "import numpy as np\n",
    "import psycopg2 as db_connect"
   ]
  },
  {
   "cell_type": "code",
   "execution_count": null,
   "id": "1f37c4d3-67fd-474e-8e89-a42ee2041de2",
   "metadata": {},
   "outputs": [],
   "source": [
    "data_address = \"C:\\\\Users\\joelf\\Documents\\Bootcamp\\Data_Analytics\\Project\\Green_Team\\StreamlitDemo\\Resources/test.csv\"\n",
    "\n",
    "def load_data(nrows):\n",
    "    data = pd.read_csv(data_address, nrows=nrows)\n",
    "    lowercase = lambda x: str(x).lower()\n",
    "    data.rename(lowercase, axis='columns', inplace=True)\n",
    "    return data\n"
   ]
  },
  {
   "cell_type": "code",
   "execution_count": null,
   "id": "1f678921-fe4d-4d6b-bd22-29bcb2af3f94",
   "metadata": {},
   "outputs": [],
   "source": [
    "data = load_data(4)"
   ]
  },
  {
   "cell_type": "code",
   "execution_count": null,
   "id": "05c893a2-247b-4387-956b-07bf98f7e9bb",
   "metadata": {},
   "outputs": [],
   "source": [
    "data"
   ]
  },
  {
   "cell_type": "markdown",
   "id": "a3390dd6-a30f-466f-bd30-3b06a8110d96",
   "metadata": {},
   "source": [
    "## Code to connect postgre using python / credentials included. \n",
    "This example retrieve the data from the Amazon cloud database.\n",
    "Reference : https://www.psycopg.org/"
   ]
  },
  {
   "cell_type": "code",
   "execution_count": null,
   "id": "dea45f1b-6e38-4868-81e1-6826cb173670",
   "metadata": {},
   "outputs": [],
   "source": [
    "host_name=\"dataviz.cgq2ewzuuqs1.us-east-2.rds.amazonaws.com\"\n",
    "db_user=\"postgres\"\n",
    "db_password=\"ElPeruano_2021\"\n",
    "db_name=\"postgres\"\n",
    "db_port = 5432\n",
    "connection = db_connect.connect(host=host_name,user=db_user,password=db_password,database=db_name, port=db_port)\n",
    " \n",
    "cursor = connection.cursor()"
   ]
  },
  {
   "cell_type": "code",
   "execution_count": null,
   "id": "317e095f-8eba-4bcf-a91c-446a196b16c5",
   "metadata": {},
   "outputs": [],
   "source": [
    "query = 'Select * from public.\"' + 'EO_Customer_Class\"'\n",
    "#You can add \"limi 5\" ad the end of the query if you want to retrieve only the first 5 rows"
   ]
  },
  {
   "cell_type": "code",
   "execution_count": null,
   "id": "ba42f359-6a1a-46d4-9437-d772513e08e9",
   "metadata": {},
   "outputs": [],
   "source": [
    "cursor.execute(query)\n",
    "result = cursor.fetchall()\n",
    "print(result)"
   ]
  },
  {
   "cell_type": "code",
   "execution_count": null,
   "id": "de955a41-8b9b-4d6a-b84d-48fe156f1716",
   "metadata": {},
   "outputs": [],
   "source": [
    "#It is important close the connection to not keep the database server opn (it will charge extra money lol)\n",
    "connection.close()"
   ]
  },
  {
   "cell_type": "markdown",
   "id": "4ef6e351-4ac0-436b-a44c-8d597179bcdc",
   "metadata": {},
   "source": [
    "# How to insert an image - test"
   ]
  },
  {
   "cell_type": "code",
   "execution_count": null,
   "id": "e47d4f96-66f5-4182-84f0-d916d0421a9e",
   "metadata": {},
   "outputs": [],
   "source": [
    "from PIL import Image\n",
    "LOGO_IMAGE = \"C:\\\\Users\\joelf\\Documents\\Bootcamp\\Data_Analytics\\Project\\GreenDashboard\\Resources\\Images/Austin_Back_carlos-alfonso.jpg\"\n",
    "background = Image.open(LOGO_IMAGE)\n",
    "background"
   ]
  },
  {
   "cell_type": "markdown",
   "id": "eab79dd6-cb0a-4ff3-b4fa-5101ed3a94cf",
   "metadata": {},
   "source": [
    "## Connecting a to the table Emmision and displaying on a grid"
   ]
  },
  {
   "cell_type": "code",
   "execution_count": null,
   "id": "0d6c4f86-99a4-4a6d-adee-1e8bfb49f32a",
   "metadata": {},
   "outputs": [],
   "source": [
    "host_name=\"dataviz.cgq2ewzuuqs1.us-east-2.rds.amazonaws.com\"\n",
    "db_user=\"postgres\"\n",
    "db_password=\"ElPeruano_2021\"\n",
    "db_name=\"postgres\"\n",
    "db_port = 5432\n",
    "connection = db_connect.connect(host=host_name,user=db_user,password=db_password,database=db_name, port=db_port)\n",
    " \n",
    "cursor = connection.cursor()"
   ]
  },
  {
   "cell_type": "code",
   "execution_count": null,
   "id": "839b2160-d5d6-4157-989c-40db4923de7d",
   "metadata": {},
   "outputs": [],
   "source": [
    "query = 'SELECT * FROM public.\"' + 'G_Emmision_US\" where public.\"G_Emmision_US\".\"State\" =' +  \"'TX'\"\n",
    "cursor.execute(query)\n",
    "result = cursor.fetchall()\n",
    "#print(result)"
   ]
  },
  {
   "cell_type": "code",
   "execution_count": null,
   "id": "49306381-bcf5-4df2-a601-b3f9cc777bac",
   "metadata": {},
   "outputs": [],
   "source": [
    "connection.close()"
   ]
  },
  {
   "cell_type": "code",
   "execution_count": null,
   "id": "5c86a81b-0722-4cb1-91d5-fd73178e2e89",
   "metadata": {},
   "outputs": [],
   "source": [
    "df = pd.DataFrame(result)\n",
    "df"
   ]
  },
  {
   "cell_type": "markdown",
   "id": "182649f0-49c6-45b0-9d53-24593be59c3f",
   "metadata": {},
   "source": [
    "# BROWSE IMAGE USING LIBRARY OS"
   ]
  },
  {
   "cell_type": "code",
   "execution_count": null,
   "id": "25dc63eb-a145-4796-9ff9-742d47defaac",
   "metadata": {},
   "outputs": [],
   "source": [
    "import os"
   ]
  },
  {
   "cell_type": "code",
   "execution_count": null,
   "id": "75f973f7-37a8-4e8b-ab75-056c7bfb475f",
   "metadata": {},
   "outputs": [],
   "source": [
    "dir_test = os.getcwd()\n",
    "print(dir_test)"
   ]
  },
  {
   "cell_type": "code",
   "execution_count": null,
   "id": "254eb97b-88aa-4b75-b2da-db2e675c20aa",
   "metadata": {},
   "outputs": [],
   "source": [
    "from PIL import Image\n",
    "LOGO_IMAGE = dir_test + \"\\Resources\\Images/Austin_Back_carlos-alfonso.jpg\"\n",
    "background = Image.open(LOGO_IMAGE)\n",
    "background"
   ]
  },
  {
   "cell_type": "markdown",
   "id": "3ccd0832-0cb9-46b7-81fb-6925172e753d",
   "metadata": {},
   "source": [
    "# Database connection base on producer - test 1"
   ]
  },
  {
   "cell_type": "code",
   "execution_count": null,
   "id": "9fd625c2-c68c-402c-9118-ca233fb7ef5e",
   "metadata": {},
   "outputs": [],
   "source": [
    "import psycopg2 as db_connect\n",
    "import pandas as pd\n",
    "import numpy as np\n",
    "import plotly_express as px\n",
    "import streamlit as st"
   ]
  },
  {
   "cell_type": "code",
   "execution_count": null,
   "id": "60d563f1-2f8f-4983-98e4-34a4e81fdc62",
   "metadata": {},
   "outputs": [],
   "source": [
    "host_name=\"dataviz.cgq2ewzuuqs1.us-east-2.rds.amazonaws.com\"\n",
    "db_user=\"postgres\"\n",
    "db_password=\"ElPeruano_2021\"\n",
    "db_name=\"postgres\"\n",
    "db_port = 5432\n",
    "connection = db_connect.connect(host=host_name,user=db_user,password=db_password,database=db_name, port=db_port)\n",
    " \n",
    "cursor = connection.cursor()"
   ]
  },
  {
   "cell_type": "code",
   "execution_count": null,
   "id": "00452f62-4097-480c-9982-95c29fcaf3fc",
   "metadata": {},
   "outputs": [],
   "source": [
    "vSQL = ('Select Sum(public.\"G_Emmision_US\".\"CO2_Tons\") as CO2, ' +  \n",
    "        'Sum(public.\"G_Emmision_US\".\"SO2_Tons\") as SO,' + \n",
    "        'Sum(public.\"G_Emmision_US\".\"NOx_Tons\") as NOx from public.\"G_Emmision_US\" WHERE '+ \n",
    "        ' public.\"G_Emmision_US\".\"State\" =' + \" 'TX' AND \" + 'public.\"G_Emmision_US\".\"Year\" = 2019 AND ' + \n",
    "        ' public.\"G_Emmision_US\".\"Energy_Source\" =' + \" 'All Sources' and\" + ' public.\"G_Emmision_US\".\"Producer_Type\" <> ' + \n",
    "        \"'Total Electric Power Industry'\"+ ' group by ' +  ' public.\"G_Emmision_US\".\"State\", public.\"G_Emmision_US\".\"Year\"')\n",
    "print(vSQL)\n",
    "cursor.execute(vSQL)\n",
    "result = cursor.fetchall()\n",
    "connection.close()"
   ]
  },
  {
   "cell_type": "code",
   "execution_count": null,
   "id": "0d28a8aa-6bf9-4c14-98e7-f0275ed225d2",
   "metadata": {},
   "outputs": [],
   "source": [
    "df = pd.DataFrame(result)\n",
    "df\n"
   ]
  },
  {
   "cell_type": "code",
   "execution_count": null,
   "id": "3318c352-4caa-4d9a-86c0-f3815e2dbc35",
   "metadata": {},
   "outputs": [],
   "source": [
    "df.rename(columns={0: 'CO',1:'SO',2:'NO'}, inplace=True)\n",
    "df = df.stack().reset_index()\n",
    "df.rename(columns={'level_1': 'Gas',0:'Value'}, inplace=True)\n",
    "df"
   ]
  },
  {
   "cell_type": "code",
   "execution_count": null,
   "id": "6eaeab41-a3c7-4dbb-9315-c8769e15c90c",
   "metadata": {},
   "outputs": [],
   "source": [
    "#df = df.reset_index()\n",
    "df2 = pd.DataFrame([df.Gas,df.Value]).transpose()\n",
    "df2"
   ]
  },
  {
   "cell_type": "code",
   "execution_count": null,
   "id": "210aea1e-5de9-4d29-a8d8-5f6769f8ca9f",
   "metadata": {},
   "outputs": [],
   "source": [
    "fig = px.pie(df2, names= 'Gas', values= 'Value',title='test')\n",
    "st.plotly_chart(fig)"
   ]
  },
  {
   "cell_type": "markdown",
   "id": "c9c029d3-4999-4a92-b57e-edfa47b413f5",
   "metadata": {},
   "source": [
    "# Database connection base on producer - test 1"
   ]
  },
  {
   "cell_type": "code",
   "execution_count": null,
   "id": "7e28a231-48e8-4899-876c-6478c29ebe96",
   "metadata": {},
   "outputs": [],
   "source": [
    "host_name=\"dataviz.cgq2ewzuuqs1.us-east-2.rds.amazonaws.com\"\n",
    "db_user=\"postgres\"\n",
    "db_password=\"ElPeruano_2021\"\n",
    "db_name=\"postgres\"\n",
    "db_port = 5432\n",
    "connection = db_connect.connect(host=host_name,user=db_user,password=db_password,database=db_name, port=db_port)\n",
    " \n",
    "cursor = connection.cursor()"
   ]
  },
  {
   "cell_type": "code",
   "execution_count": null,
   "id": "3b81715e-1efd-4d6a-8a6c-e47e466531e6",
   "metadata": {},
   "outputs": [],
   "source": [
    "vSQL1 = ('Select public.\"G_Emmision_US\".\"Year\", Sum(public.\"G_Emmision_US\".\"CO2_Tons\") as CO2,' +\n",
    "        'Sum(public.\"G_Emmision_US\".\"SO2_Tons\") as SO,' +\n",
    "        'Sum(public.\"G_Emmision_US\".\"NOx_Tons\") as NOx from ' +          \n",
    "        'public.\"G_Emmision_US\" WHERE ' +\n",
    "        'public.\"G_Emmision_US\".\"State\" =' + \" 'TX' AND \" +\n",
    "        'public.\"G_Emmision_US\".\"Energy_Source\" =' + \"'All Sources' and \" +\n",
    "        'public.\"G_Emmision_US\".\"Producer_Type\" = ' + \" 'Total Electric Power Industry' \" +\n",
    "        'group by public.\"G_Emmision_US\".\"State\", public.\"G_Emmision_US\".\"Year\" ' +\n",
    "        'order by \"G_Emmision_US\".\"Year\" ASC')\n",
    "\n",
    "#print(vSQL1)      \n",
    "cursor.execute(vSQL1)\n",
    "result = cursor.fetchall()\n",
    "connection.close()"
   ]
  },
  {
   "cell_type": "code",
   "execution_count": null,
   "id": "08a3cd7e-f800-4ca5-89a8-28558839b1eb",
   "metadata": {},
   "outputs": [],
   "source": [
    "df = pd.DataFrame(result)\n",
    "df.set_index(0)\n",
    "df.head()"
   ]
  },
  {
   "cell_type": "code",
   "execution_count": null,
   "id": "fe75e67d-0700-43a2-8bb4-969c1ed0946e",
   "metadata": {},
   "outputs": [],
   "source": [
    "df.rename(columns={0: 'Year',1:'CO',2:'SO',3:'NO'}, inplace=True)\n",
    "df.head()"
   ]
  },
  {
   "cell_type": "code",
   "execution_count": null,
   "id": "55682de4-06f7-4a5d-a3a4-c1af1c8d3e8c",
   "metadata": {},
   "outputs": [],
   "source": [
    "df.set_index('Year')\n",
    "df.reset_index()\n",
    "df"
   ]
  },
  {
   "cell_type": "markdown",
   "id": "e0418073-1cca-45c0-a963-74bb1dec1d00",
   "metadata": {},
   "source": [
    "# Scatter test , how to insert multiple Y axis - Test 1"
   ]
  },
  {
   "cell_type": "code",
   "execution_count": null,
   "id": "5c3e7c1f-e919-4e24-a9ab-28fcdb0a1d01",
   "metadata": {},
   "outputs": [],
   "source": [
    "#test to use plotly offline - not very convenient\n",
    "import plotly.graph_objects as go\n",
    "import plotly.offline as pyo"
   ]
  },
  {
   "cell_type": "code",
   "execution_count": null,
   "id": "f48e1ad6-f4d9-4844-a975-f67cfbe3e5e2",
   "metadata": {},
   "outputs": [],
   "source": [
    "fig = go.Figure()\n",
    "trace0 = go.Scatter(x=df['Year'], y=df['CO'],\n",
    "                    mode='markers',\n",
    "                    name='makers')\n",
    "\n",
    "trace1 = go.Scatter(x=df['Year'], y=df['SO'],\n",
    "                    mode='lines',\n",
    "                    name='lines')\n",
    "\n",
    "trace2 = go.Scatter(x=df['Year'], y=df['NO'],\n",
    "                    mode='markers', name='markers')\n",
    "\n",
    "data = [trace0, trace1, trace2]\n",
    "fig = go.Figure(data=data)\n",
    "\n",
    "pyo.plot(fig)"
   ]
  },
  {
   "cell_type": "markdown",
   "id": "1d6e7326-c793-44c9-8a69-3e9f5aa9d10a",
   "metadata": {},
   "source": [
    "# Scatter , how to insert 2 Y axis - test 2"
   ]
  },
  {
   "cell_type": "code",
   "execution_count": null,
   "id": "b3d341da-6e3f-4d5a-a126-0785bfd3c70f",
   "metadata": {},
   "outputs": [],
   "source": [
    "import plotly.graph_objects as go\n",
    "from plotly.subplots import make_subplots"
   ]
  },
  {
   "cell_type": "code",
   "execution_count": null,
   "id": "e5500b64-9058-4c3d-bfb4-c365cb263c7f",
   "metadata": {},
   "outputs": [],
   "source": [
    "# Create figure with secondary y-axis\n",
    "fig = make_subplots(specs=[[{\"secondary_y\": True}]])"
   ]
  },
  {
   "cell_type": "code",
   "execution_count": null,
   "id": "78430fe4-f08e-4cd1-b446-7e1b72871474",
   "metadata": {},
   "outputs": [],
   "source": [
    "# Add traces\n",
    "fig.add_trace(\n",
    "    go.Scatter(x=df['Year'], y=df['CO'], name=\"CO data\"),\n",
    "    secondary_y=False,\n",
    ")\n",
    "\n",
    "fig.add_trace(\n",
    "    go.Scatter(x=df['Year'], y=df['SO'], name=\"SO data\"),\n",
    "    secondary_y=True,\n",
    ")\n",
    "\n",
    "fig.add_trace(\n",
    "    go.Scatter(x=df['Year'], y=df['NO'], name=\"NO data\"),\n",
    "    secondary_y=True,\n",
    ")\n",
    "\n",
    "# Set y-axes titles\n",
    "fig.update_yaxes(title_text=\"<b>primary</b> yaxis title\", secondary_y=False)\n",
    "fig.update_yaxes(title_text=\"<b>secondary</b> yaxis title\", secondary_y=True)"
   ]
  },
  {
   "cell_type": "markdown",
   "id": "7ce7e27b-ad22-4405-8733-58589be8fd80",
   "metadata": {},
   "source": [
    "# Database connection using a function, return a dataframe = Test 1"
   ]
  },
  {
   "cell_type": "markdown",
   "id": "e7fce45e-299e-4006-acb3-427356716702",
   "metadata": {},
   "source": [
    "#Test for main filter - charts with function"
   ]
  },
  {
   "cell_type": "code",
   "execution_count": null,
   "id": "71e1e121-1bb0-437a-b3f3-9650d70e5573",
   "metadata": {},
   "outputs": [],
   "source": [
    "import streamlit as st\n",
    "import pandas as pd\n",
    "import numpy as np\n",
    "import psycopg2 as db_connect"
   ]
  },
  {
   "cell_type": "code",
   "execution_count": null,
   "id": "de3a51a4-e32f-4222-b1bd-9af821a4821a",
   "metadata": {},
   "outputs": [],
   "source": [
    "host_name=\"dataviz.cgq2ewzuuqs1.us-east-2.rds.amazonaws.com\"\n",
    "db_user=\"postgres\"\n",
    "db_password=\"ElPeruano_2021\"\n",
    "db_name=\"postgres\"\n",
    "db_port = 5432\n",
    "connection = db_connect.connect(host=host_name,user=db_user,password=db_password,database=db_name, port=db_port)\n",
    " \n",
    "cursor = connection.cursor()"
   ]
  },
  {
   "cell_type": "code",
   "execution_count": null,
   "id": "1c81cf7e-dd75-425c-8674-a85030fc5b59",
   "metadata": {},
   "outputs": [],
   "source": [
    "def Reload_Widgets(vYear,vFilter):\n",
    "    \n",
    "    if vFilter == 'Producer Type':\n",
    "        vSQL = ('Select public.\"G_Emmision_US\".\"Producer_Type\", public.\"G_Emmision_US\".\"CO2_Tons\" as CO2,' +\n",
    "                'public.\"G_Emmision_US\".\"SO2_Tons\" as SO, public.\"G_Emmision_US\".\"NOx_Tons\" as NOx from public.\"G_Emmision_US\" WHERE ' + \n",
    "                ' public.\"G_Emmision_US\".\"Year\" = ' + str(vYear) + ' and public.\"G_Emmision_US\".\"State\" = ' + \"'TX' AND \" +\n",
    "                ' public.\"G_Emmision_US\".\"Producer_Type\" <> ' + \"'Total Electric Power Industry' and \" + \n",
    "                ' public.\"G_Emmision_US\".\"Energy_Source\" = ' + \" 'All Sources' order by \" +\n",
    "                ' public.\"G_Emmision_US\".\"Year\",public.\"G_Emmision_US\".\"Producer_Type\" ASC')\n",
    "    else:\n",
    "        #Energy Source\n",
    "        vSQL = ('Select public.\"G_Emmision_US\".\"Energy_Source\", public.\"G_Emmision_US\".\"CO2_Tons\" as CO2,' +\n",
    "                ' public.\"G_Emmision_US\".\"SO2_Tons\" as SO, public.\"G_Emmision_US\".\"NOx_Tons\" as NOx from public.\"G_Emmision_US\" WHERE ' + \n",
    "                ' public.\"G_Emmision_US\".\"Year\" = ' + str(vYear) + ' and public.\"G_Emmision_US\".\"State\" = '+ \"'TX' AND \" +\n",
    "                ' public.\"G_Emmision_US\".\"Producer_Type\" = ' + \" 'Total Electric Power Industry'and \" + \n",
    "                ' public.\"G_Emmision_US\".\"Energy_Source\" <> ' + \"'All Sources' order by \" +\n",
    "                ' public.\"G_Emmision_US\".\"Year\",public.\"G_Emmision_US\".\"Energy_Source\" ASC ')\n",
    "    \n",
    "    cursor = connection.cursor()\n",
    "    cursor.execute(vSQL)\n",
    "    result_2 = cursor.fetchall()\n",
    "    connection.close()\n",
    "    \n",
    "    df_raw = pd.DataFrame(result_2)\n",
    "    \n",
    "    if vFilter == 'Producer Type':\n",
    "        df_raw.rename(columns={0: 'Producer Type',1:'CO2',2:'SO2',3:'NOX'}, inplace=True)\n",
    "    else:\n",
    "        df_raw.rename(columns={0: 'Energy Source',1:'CO2',2:'SO2',3:'NOX'}, inplace=True)\n",
    "        \n",
    "    return df_raw"
   ]
  },
  {
   "cell_type": "markdown",
   "id": "8ea38409-b477-4797-8b09-e575e16e1165",
   "metadata": {},
   "source": [
    "# Dataframe manipulation / select specific columns and set a new index"
   ]
  },
  {
   "cell_type": "code",
   "execution_count": null,
   "id": "28bd5fe8-0770-4a38-9b9a-f27614be196a",
   "metadata": {},
   "outputs": [],
   "source": [
    "df = Reload_Widgets(1990,'Energy Source')\n",
    "df"
   ]
  },
  {
   "cell_type": "code",
   "execution_count": null,
   "id": "7aaa705f-9b3f-45e7-92c7-10bdc5da51b5",
   "metadata": {},
   "outputs": [],
   "source": [
    "var = 'Energy Source'\n",
    "df3= pd.DataFrame(df[var])\n",
    "df3 = df3.join(df['SO2'])\n",
    "df3.reset_index(drop=True, inplace=True)\n",
    "df3"
   ]
  },
  {
   "cell_type": "code",
   "execution_count": null,
   "id": "1fd48bfb-56ec-4212-8c9a-5986a13a765e",
   "metadata": {},
   "outputs": [],
   "source": [
    "df3.set_index(df3[var])\n",
    "df3"
   ]
  },
  {
   "cell_type": "code",
   "execution_count": null,
   "id": "18c5705c-c888-4078-bdaa-d918e2796e3f",
   "metadata": {},
   "outputs": [],
   "source": [
    "df4 = pd.DataFrame(df[var])\n",
    "df4"
   ]
  },
  {
   "cell_type": "code",
   "execution_count": null,
   "id": "3c97b13f-fe1f-49b8-ba0b-8320d433248d",
   "metadata": {},
   "outputs": [],
   "source": [
    "df5 = df[[var, \"SO2\"]]\n",
    "df5"
   ]
  },
  {
   "cell_type": "code",
   "execution_count": null,
   "id": "fa5b426e-4dff-406f-8f88-fe7aa5ef3dc0",
   "metadata": {},
   "outputs": [],
   "source": [
    "df5.set_index(var, inplace=True)\n",
    "df5"
   ]
  },
  {
   "cell_type": "code",
   "execution_count": null,
   "id": "ad93aa86-3ddc-4815-b02d-e676eb2db969",
   "metadata": {},
   "outputs": [],
   "source": [
    "df5.set_index(df5[\"SO2\"])\n",
    "df5"
   ]
  },
  {
   "cell_type": "code",
   "execution_count": null,
   "id": "e3d5d632-d36f-4f51-b496-3662b4d09702",
   "metadata": {},
   "outputs": [],
   "source": []
  }
 ],
 "metadata": {
  "kernelspec": {
   "display_name": "mlenv",
   "language": "python",
   "name": "mlenv"
  },
  "language_info": {
   "codemirror_mode": {
    "name": "ipython",
    "version": 3
   },
   "file_extension": ".py",
   "mimetype": "text/x-python",
   "name": "python",
   "nbconvert_exporter": "python",
   "pygments_lexer": "ipython3",
   "version": "3.7.11"
  }
 },
 "nbformat": 4,
 "nbformat_minor": 5
}
